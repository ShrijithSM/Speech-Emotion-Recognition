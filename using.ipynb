{
 "cells": [
  {
   "cell_type": "code",
   "execution_count": null,
   "metadata": {},
   "outputs": [],
   "source": [
    "from transformers import Wav2Vec2ForSequenceClassification, Wav2Vec2Processor\n",
    "import torch\n",
    "import librosa\n",
    "\n",
    "# Define the inverse label map\n",
    "inverse_label_map = {0: 'happy', 1: 'sad', 2: 'angry', 3: 'fearful', 4: 'disgusted', 5: 'surprised', 6: 'neutral'}\n",
    "\n",
    "# Load the saved model and processor\n",
    "model = Wav2Vec2ForSequenceClassification.from_pretrained(\"my_model\")\n",
    "processor = Wav2Vec2Processor.from_pretrained(\"my_model\")\n",
    "\n",
    "model.to('cuda')\n",
    "\n",
    "def predict_emotion(audio_path):\n",
    "    # Load the audio file\n",
    "    speech, sr = librosa.load(audio_path, sr=16000)\n",
    "    \n",
    "    # Preprocess the audio file\n",
    "    inputs = processor(speech, sampling_rate=16000, return_tensors=\"pt\", padding=True)\n",
    "    \n",
    "    # Move the input to the appropriate device\n",
    "    input_values = inputs.input_values.to('cuda')\n",
    "    \n",
    "    # Make predictions\n",
    "    with torch.no_grad():\n",
    "        logits = model(input_values).logits\n",
    "    \n",
    "    # Get the predicted class\n",
    "    predicted_class = torch.argmax(logits, dim=1).item()\n",
    "    \n",
    "    # Map the predicted class to the emotion label\n",
    "    predicted_emotion = inverse_label_map[predicted_class]\n",
    "    \n",
    "    return predicted_emotion\n"
   ]
  },
  {
   "cell_type": "code",
   "execution_count": 10,
   "metadata": {},
   "outputs": [
    {
     "name": "stdout",
     "output_type": "stream",
     "text": [
      "The predicted emotion is: disgusted\n"
     ]
    }
   ],
   "source": [
    "# Example usage\n",
    "audio_path = 'recorded_audio.wav'\n",
    "predicted_emotion = predict_emotion(audio_path)\n",
    "print(f\"The predicted emotion is: {predicted_emotion}\")"
   ]
  },
  {
   "cell_type": "code",
   "execution_count": null,
   "metadata": {},
   "outputs": [
    {
     "name": "stdout",
     "output_type": "stream",
     "text": [
      "Recording...\n",
      "Recording finished.\n",
      "Audio saved as recorded_audio.wav\n",
      "The predicted emotion is: disgusted\n"
     ]
    }
   ],
   "source": [
    "import sounddevice as sd\n",
    "import numpy as np\n",
    "import wavio\n",
    "\n",
    "def record_audio(duration, fs=16000):\n",
    "    print(\"Recording...\")\n",
    "    audio = sd.rec(int(duration * fs), samplerate=fs, channels=1, dtype='float32')\n",
    "    sd.wait()  # Wait until recording is finished\n",
    "    print(\"Recording finished.\")\n",
    "    audio = audio.flatten()\n",
    "    return audio, fs\n",
    "\n",
    "def save_audio(audio, fs, filename):\n",
    "    wavio.write(filename, audio, fs, sampwidth=2)\n",
    "    print(f\"Audio saved as {filename}\")\n",
    "\n",
    "# Record audio for 5 seconds\n",
    "duration = 5  # seconds\n",
    "audio, fs = record_audio(duration)\n",
    "\n",
    "# Save the recorded audio to a file\n",
    "audio_path = 'recorded_audio.wav'\n",
    "save_audio(audio, fs, audio_path)\n",
    "\n",
    "# Move the model to the appropriate device\n",
    "model.to('cuda')\n",
    "\n",
    "# Predict the emotion of the recorded audio\n",
    "predicted_emotion = predict_emotion(audio_path)\n",
    "print(f\"The predicted emotion is: {predicted_emotion}\")\n"
   ]
  }
 ],
 "metadata": {
  "kernelspec": {
   "display_name": "Python 3",
   "language": "python",
   "name": "python3"
  },
  "language_info": {
   "codemirror_mode": {
    "name": "ipython",
    "version": 3
   },
   "file_extension": ".py",
   "mimetype": "text/x-python",
   "name": "python",
   "nbconvert_exporter": "python",
   "pygments_lexer": "ipython3",
   "version": "3.12.6"
  }
 },
 "nbformat": 4,
 "nbformat_minor": 2
}
